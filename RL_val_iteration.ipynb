{
 "cells": [
  {
   "cell_type": "code",
   "execution_count": 5,
   "metadata": {},
   "outputs": [],
   "source": [
    "import copy\n",
    "import numpy as np"
   ]
  },
  {
   "cell_type": "markdown",
   "metadata": {},
   "source": [
    "### Value Iteration Grid World"
   ]
  },
  {
   "cell_type": "markdown",
   "metadata": {},
   "source": [
    "We want to move to top left or bottom right. Possible actions are left/right/up/botton."
   ]
  },
  {
   "cell_type": "code",
   "execution_count": 6,
   "metadata": {},
   "outputs": [],
   "source": [
    "val = [[-1 for _ in range(4)] for _ in range(4)]\n",
    "val[0][0] = 0\n",
    "val[3][3] = 0\n",
    "\n",
    "discount = 1\n",
    "num_episodes = 10\n",
    "\n",
    "final_states = set([(0,0), (3,3)])\n",
    "\n",
    "def get_neighbour(i,j):\n",
    "    ans = []\n",
    "    candidates = [(i-1,j), (i+1, j), (i, j-1), (i, j+1)]\n",
    "    for x,y in candidates:\n",
    "        if 0<=x<=3 and 0<=y<=3:\n",
    "            ans.append((x,y))\n",
    "    return ans\n",
    "\n",
    "for _ in range(num_episodes):\n",
    "    backup = copy.deepcopy(val)\n",
    "    for i in range(4):\n",
    "        for j in range(4):\n",
    "            if (i,j) in final_states:\n",
    "                continue\n",
    "            dist = -10**8\n",
    "            ans = []\n",
    "            for x,y in get_neighbour(i,j):\n",
    "                if backup[x][y] == dist:\n",
    "                    ans.append((x,y))\n",
    "                elif backup[x][y] > dist:\n",
    "                    dist = val[x][y]\n",
    "                    ans = []\n",
    "                    ans.append((x,y))\n",
    "            index = np.random.randint(0, len(ans)) \n",
    "            x,y = ans[index] # This is next state\n",
    "            reward = -1 \n",
    "            val[i][j] = reward + discount * backup[x][y]"
   ]
  },
  {
   "cell_type": "code",
   "execution_count": 7,
   "metadata": {},
   "outputs": [
    {
     "name": "stdout",
     "output_type": "stream",
     "text": [
      "[0, -1, -2, -3]\n",
      "[-1, -2, -3, -2]\n",
      "[-2, -3, -2, -1]\n",
      "[-3, -2, -1, 0]\n"
     ]
    }
   ],
   "source": [
    "for x in val:\n",
    "    print (x)"
   ]
  }
 ],
 "metadata": {
  "kernelspec": {
   "display_name": "Python 3",
   "language": "python",
   "name": "python3"
  },
  "language_info": {
   "codemirror_mode": {
    "name": "ipython",
    "version": 3
   },
   "file_extension": ".py",
   "mimetype": "text/x-python",
   "name": "python",
   "nbconvert_exporter": "python",
   "pygments_lexer": "ipython3",
   "version": "3.6.5"
  }
 },
 "nbformat": 4,
 "nbformat_minor": 2
}
