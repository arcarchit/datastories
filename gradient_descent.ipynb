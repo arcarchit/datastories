{
 "cells": [
  {
   "cell_type": "code",
   "execution_count": 1,
   "metadata": {},
   "outputs": [],
   "source": [
    "import numpy as np\n",
    "import matplotlib.pyplot as plt\n",
    "%matplotlib inline"
   ]
  },
  {
   "cell_type": "markdown",
   "metadata": {},
   "source": [
    "### Data Generation"
   ]
  },
  {
   "cell_type": "code",
   "execution_count": 2,
   "metadata": {},
   "outputs": [],
   "source": [
    "b0, b1, b2 = 2, -5, 11\n",
    "b = np.array([b0, b1, b2])"
   ]
  },
  {
   "cell_type": "code",
   "execution_count": 3,
   "metadata": {},
   "outputs": [],
   "source": [
    "train_x = []\n",
    "train_y = []\n",
    "\n",
    "data_points = 1000\n",
    "for _ in range(data_points):\n",
    "    x = (np.random.rand(3)-0.5)*50\n",
    "    y = sum([b[i]*x[i] for i in range(len(b))])\n",
    "    train_x.append(x)\n",
    "    train_y.append(y)"
   ]
  },
  {
   "cell_type": "code",
   "execution_count": 4,
   "metadata": {},
   "outputs": [],
   "source": [
    "train_x = np.array(train_x)\n",
    "train_y = np.array(train_y)"
   ]
  },
  {
   "cell_type": "markdown",
   "metadata": {},
   "source": [
    "### Training"
   ]
  },
  {
   "cell_type": "code",
   "execution_count": 5,
   "metadata": {},
   "outputs": [
    {
     "name": "stdout",
     "output_type": "stream",
     "text": [
      "(1000, 3) (1000,)\n"
     ]
    }
   ],
   "source": [
    "print (train_x.shape, train_y.shape)"
   ]
  },
  {
   "cell_type": "markdown",
   "metadata": {},
   "source": [
    "We need to normalize train_x"
   ]
  },
  {
   "cell_type": "code",
   "execution_count": 6,
   "metadata": {},
   "outputs": [],
   "source": [
    "minn = np.min(train_x, axis=0)\n",
    "maxx = np.max(train_x, axis=0)"
   ]
  },
  {
   "cell_type": "markdown",
   "metadata": {},
   "source": [
    "Stochastic Gradient Descent"
   ]
  },
  {
   "cell_type": "code",
   "execution_count": 7,
   "metadata": {},
   "outputs": [],
   "source": [
    "def full_gd(x_train, y_train, no_iter, learning_rate):\n",
    "    b = np.random.rand(3)*10\n",
    "    loss_ary = []\n",
    "    for _ in range(no_iter):\n",
    "        y_hat = np.dot(x_train, b)\n",
    "        loss = y_hat - y_train\n",
    "        loss_ary.append(np.linalg.norm(loss))\n",
    "        changes = np.zeros(len(b))\n",
    "        for i in range(len(b)):\n",
    "            for j in range(len(y_train)):\n",
    "                changes[i] += x_train[j][i] * loss[j]\n",
    "        changes = changes/len(y_train) # This is important, do not forget it. \n",
    "        b = b - learning_rate * changes\n",
    "    return b, loss_ary   "
   ]
  },
  {
   "cell_type": "code",
   "execution_count": 8,
   "metadata": {},
   "outputs": [
    {
     "name": "stdout",
     "output_type": "stream",
     "text": [
      "[ 2. -5. 11.]\n"
     ]
    }
   ],
   "source": [
    "b, loss_ary = full_gd(train_x, train_y, 100, 0.001)\n",
    "print (b)"
   ]
  },
  {
   "cell_type": "code",
   "execution_count": 9,
   "metadata": {},
   "outputs": [
    {
     "data": {
      "text/plain": [
       "[<matplotlib.lines.Line2D at 0x11f3c26d8>]"
      ]
     },
     "execution_count": 9,
     "metadata": {},
     "output_type": "execute_result"
    },
    {
     "data": {
      "image/png": "[encoded data removed]",
      "text/plain": [
       "<Figure size 432x288 with 1 Axes>"
      ]
     },
     "metadata": {},
     "output_type": "display_data"
    }
   ],
   "source": [
    "plt.plot(loss_ary)"
   ]
  },
  {
   "cell_type": "markdown",
   "metadata": {},
   "source": [
    "Learning : We were not able to converge when x = (np.random.rand(3)-0.5) * 50  \n",
    "Multiplying by 50 was increasing the range  \n",
    "Gradient descent works well when input is normalized, coefficient changes so drastically otherwise.  \n",
    "We did not normalize them here because we were interested in coefficient not the prediction. Solution ther was to  reduce learning rate."
   ]
  },
  {
   "cell_type": "code",
   "execution_count": 10,
   "metadata": {},
   "outputs": [],
   "source": [
    "def batch_gd(x_train, y_train, no_iter, learning_rate, batch_size):\n",
    "    b = np.random.rand(3)*10\n",
    "    loss_ary = []\n",
    "    for _ in range(no_iter):\n",
    "        y_hat = np.dot(x_train, b)\n",
    "        loss = y_hat - y_train\n",
    "        loss_ary.append(np.linalg.norm(loss))\n",
    "        for batch_start in range(0, len(y_train), batch_size):\n",
    "            batch_end = min(batch_start + batch_size, len(y_train))\n",
    "            x_subset, y_subset = x_train[batch_start:batch_end], y_train[batch_start:batch_end]\n",
    "            y_hat = np.dot(x_train, b)\n",
    "            changes = np.zeros(len(b))\n",
    "            for i in range(len(b)):\n",
    "                for j in range(len(y_subset)):\n",
    "                    changes[i] += x_subset[j][i] * loss[j]\n",
    "            changes = changes/len(y_subset) # This is important, do not forget it. \n",
    "            b = b - learning_rate * changes\n",
    "    return b, loss_ary   "
   ]
  },
  {
   "cell_type": "code",
   "execution_count": 11,
   "metadata": {},
   "outputs": [
    {
     "name": "stdout",
     "output_type": "stream",
     "text": [
      "[ 1.99999951 -5.00000022 10.99999968]\n"
     ]
    },
    {
     "data": {
      "text/plain": [
       "[<matplotlib.lines.Line2D at 0x11f456f28>]"
      ]
     },
     "execution_count": 11,
     "metadata": {},
     "output_type": "execute_result"
    },
    {
     "data": {
      "image/png": "[encoded data removed]",
      "text/plain": [
       "<Figure size 432x288 with 1 Axes>"
      ]
     },
     "metadata": {},
     "output_type": "display_data"
    }
   ],
   "source": [
    "b, loss_ary = batch_gd(train_x, train_y, 100, 0.001, 100)\n",
    "print (b)\n",
    "plt.plot(loss_ary)"
   ]
  },
  {
   "cell_type": "code",
   "execution_count": 12,
   "metadata": {},
   "outputs": [],
   "source": [
    "def stochastic_gd(x_train, y_train, no_iter, learning_rate):\n",
    "    b = np.random.rand(3)*10\n",
    "    loss_ary = []\n",
    "    for _ in range(no_iter):\n",
    "        y_hat = np.dot(x_train, b)\n",
    "        loss = y_hat - y_train\n",
    "        loss_ary.append(np.linalg.norm(loss))\n",
    "        for j in range(len(y_train)):\n",
    "            y_hat = np.dot(x_train[j], b)\n",
    "            loss = y_hat - y_train[j]\n",
    "            changes = np.zeros(len(b))\n",
    "            for i in range(len(b)):\n",
    "                changes[i] = x_train[j][i] * loss\n",
    "            b = b - learning_rate * changes\n",
    "    return b, loss_ary   "
   ]
  },
  {
   "cell_type": "code",
   "execution_count": 14,
   "metadata": {},
   "outputs": [
    {
     "name": "stdout",
     "output_type": "stream",
     "text": [
      "[nan nan nan]\n"
     ]
    },
    {
     "data": {
      "text/plain": [
       "[<matplotlib.lines.Line2D at 0x11f5d0cf8>]"
      ]
     },
     "execution_count": 14,
     "metadata": {},
     "output_type": "execute_result"
    },
    {
     "data": {
      "image/png": "[encoded data removed]",
      "text/plain": [
       "<Figure size 432x288 with 1 Axes>"
      ]
     },
     "metadata": {},
     "output_type": "display_data"
    }
   ],
   "source": [
    "b, loss_ary = stochastic_gd(train_x, train_y, 100, 0.1)\n",
    "print (b)\n",
    "plt.plot(loss_ary) #TODO : Need tp debug"
   ]
  },
  {
   "cell_type": "code",
   "execution_count": null,
   "metadata": {},
   "outputs": [],
   "source": []
  },
  {
   "cell_type": "code",
   "execution_count": null,
   "metadata": {},
   "outputs": [],
   "source": []
  }
 ],
 "metadata": {
  "kernelspec": {
   "display_name": "Python 3",
   "language": "python",
   "name": "python3"
  },
  "language_info": {
   "codemirror_mode": {
    "name": "ipython",
    "version": 3
   },
   "file_extension": ".py",
   "mimetype": "text/x-python",
   "name": "python",
   "nbconvert_exporter": "python",
   "pygments_lexer": "ipython3",
   "version": "3.6.5"
  }
 },
 "nbformat": 4,
 "nbformat_minor": 2
}
