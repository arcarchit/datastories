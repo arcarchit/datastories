{
 "cells": [
  {
   "cell_type": "code",
   "execution_count": 1,
   "metadata": {},
   "outputs": [],
   "source": [
    "from hmmlearn import hmm\n",
    "import numpy as np\n",
    "import math\n",
    "\n",
    "import warnings\n",
    "warnings.filterwarnings('ignore')"
   ]
  },
  {
   "cell_type": "markdown",
   "metadata": {},
   "source": [
    "#### Model"
   ]
  },
  {
   "cell_type": "markdown",
   "metadata": {},
   "source": [
    "* We have the data about observations states are unknown.  \n",
    "* * Observation 1 : walk -> shop -> clean\n",
    "* * Observation 2 : clean -> clean -> clean\n",
    "* There is a prior probability of a first state in sequence.\n",
    "* Transition probability : Probability of a next state given current state (never symmetric in general)  \n",
    "* Emission probability : Probability of observation given state  "
   ]
  },
  {
   "cell_type": "markdown",
   "metadata": {},
   "source": [
    "These three are the model parameters, which we need to infer.\n",
    "Our example is discrete HMM and emission probability has multinomial distribution.  \n",
    "Note that it all sums up to 1.  \n",
    "\n",
    "In case of continuous HMM emission probabilities can be a normal distribution.  \n",
    "One example of observed entitity is electric power consumed.  https://nipunbatra.github.io/blog/2013/hmm_continuous.html"
   ]
  },
  {
   "cell_type": "code",
   "execution_count": 2,
   "metadata": {},
   "outputs": [],
   "source": [
    "states = ('Rainny', 'Sunny')\n",
    "observations = ('walk', 'shop', 'clean')\n",
    "\n",
    "start_probability = {\n",
    "    'Rainy':0.6,\n",
    "    'Sunny':0.4\n",
    "}\n",
    "\n",
    "\n",
    "trainsition_probabilities = {\n",
    "    'Rainy' : {'Rainy':0.7, 'Sunny':0.3},\n",
    "    'Sunny' : {'Rainy':0.4, 'Sunny':0.6}\n",
    "}\n",
    "\n",
    "emissio_probabilites = {\n",
    "    'Rainy':{\n",
    "        'walk':0.1,\n",
    "        'shop':0.4,\n",
    "        'clean':0.5\n",
    "    },\n",
    "    'Sunny':{\n",
    "        'walk':0.6,\n",
    "        'shop':0.3,\n",
    "        'clean':0.1\n",
    "    }\n",
    "}"
   ]
  },
  {
   "cell_type": "code",
   "execution_count": 3,
   "metadata": {},
   "outputs": [],
   "source": [
    "import numpy as np\n",
    "from hmmlearn import hmm\n",
    "\n",
    "model = hmm.MultinomialHMM(n_components=2)\n",
    "model.startprob_ = np.array([0.6, 0.4])\n",
    "model.transmat_ = np.array([[0.7,0.3],\n",
    "                                [0.4,0.6]])\n",
    "model.emissionprob_ = np.array([[0.1, 0.4, 0.5],\n",
    "                                [0.6, 0.3, 0.1]])"
   ]
  },
  {
   "cell_type": "markdown",
   "metadata": {},
   "source": [
    "#### Forward Algorithm"
   ]
  },
  {
   "cell_type": "markdown",
   "metadata": {},
   "source": [
    "Given model we want to calculate probability of observing sequence.  Brute force approach will start from each state, calculate probability and sums them up. If there are N hidden states and T observations there can be total N^T possible sequence. Forward algorithm uses dynamic programming to reduce complexity. "
   ]
  },
  {
   "cell_type": "code",
   "execution_count": 4,
   "metadata": {},
   "outputs": [
    {
     "name": "stdout",
     "output_type": "stream",
     "text": [
      "Probability of observing clean -> clean -> clean is 0.045904\n"
     ]
    }
   ],
   "source": [
    "prob = math.exp(model.score([2,2,2]))\n",
    "print \"Probability of observing clean -> clean -> clean is\", prob"
   ]
  },
  {
   "cell_type": "code",
   "execution_count": 5,
   "metadata": {},
   "outputs": [
    {
     "name": "stdout",
     "output_type": "stream",
     "text": [
      "Probability of observing walk -> shop -> clean is 0.033612\n"
     ]
    }
   ],
   "source": [
    "prob = math.exp(model.score([0,1,2]))\n",
    "print \"Probability of observing walk -> shop -> clean is\", prob"
   ]
  },
  {
   "cell_type": "code",
   "execution_count": 6,
   "metadata": {},
   "outputs": [
    {
     "name": "stdout",
     "output_type": "stream",
     "text": [
      "Probability of observing shop -> shop is 0.1296\n"
     ]
    }
   ],
   "source": [
    "prob = math.exp(model.score([1,1]))\n",
    "print \"Probability of observing shop -> shop is\", prob"
   ]
  },
  {
   "cell_type": "markdown",
   "metadata": {},
   "source": [
    "#### Decoding "
   ]
  },
  {
   "cell_type": "markdown",
   "metadata": {},
   "source": [
    "Given observed sequence, we want to find out most probable state sequence.  One way would be as in forward algorithm compute probability of each possible sequence and return the one with highest probability.  \n",
    "Efficient algorithm here is Viterbi's algorithm which again is based on dynamic programming.  "
   ]
  },
  {
   "cell_type": "code",
   "execution_count": 7,
   "metadata": {},
   "outputs": [
    {
     "data": {
      "text/plain": [
       "(-4.19173690823075, array([0, 0, 1]))"
      ]
     },
     "execution_count": 7,
     "metadata": {},
     "output_type": "execute_result"
    }
   ],
   "source": [
    "# Predict the optimal sequence of internal hidden state\n",
    "X = [1,2,0]\n",
    "model.decode(X)"
   ]
  },
  {
   "cell_type": "markdown",
   "metadata": {},
   "source": [
    "We had observed shop -> clean -> walk.  \n",
    "States suggested are Rainy, Rainy, Sunny"
   ]
  },
  {
   "cell_type": "code",
   "execution_count": 8,
   "metadata": {},
   "outputs": [
    {
     "name": "stdout",
     "output_type": "stream",
     "text": [
      "(-3.3036170533232916, array([0, 0, 0]))\n"
     ]
    }
   ],
   "source": [
    "X = [2,2,2]\n",
    "print(model.decode(X))"
   ]
  },
  {
   "cell_type": "markdown",
   "metadata": {},
   "source": [
    "We had observed clean -> clean -> clean.  \n",
    "States suggested are Rainy -> Rainy -> Rainy.  "
   ]
  },
  {
   "cell_type": "code",
   "execution_count": 9,
   "metadata": {},
   "outputs": [
    {
     "name": "stdout",
     "output_type": "stream",
     "text": [
      "(-11.24525811750575, array([0, 0, 0, 0, 1, 1, 0, 0, 0]))\n"
     ]
    }
   ],
   "source": [
    "X = [2,2,2,2,0,0,1,1,2]\n",
    "print(model.decode(X))"
   ]
  },
  {
   "cell_type": "markdown",
   "metadata": {},
   "source": [
    "We had observed clean -> clean -> clean -> clean -> walk -> walk -> shop -> shop -> clean.  \n",
    "States suggested are Rainy -> Rainy -> Rainy -> Rainy -> Sunny -> Suny -> Rainy -> Rainy -> Rainy"
   ]
  },
  {
   "cell_type": "markdown",
   "metadata": {},
   "source": [
    "#### Training "
   ]
  },
  {
   "cell_type": "markdown",
   "metadata": {},
   "source": [
    "Given dataset of observed sequence we want to learn model parameters.  Algorithm used here is called forward-backward algorithm.  "
   ]
  },
  {
   "cell_type": "markdown",
   "metadata": {},
   "source": [
    "###### Generating sample data"
   ]
  },
  {
   "cell_type": "code",
   "execution_count": 10,
   "metadata": {},
   "outputs": [],
   "source": [
    "data = []\n",
    "for i in range(200):\n",
    "    X, Z = model.sample(6)\n",
    "    data.append(X)"
   ]
  },
  {
   "cell_type": "markdown",
   "metadata": {},
   "source": [
    "We now have 20 possible sequences of length 6.  "
   ]
  },
  {
   "cell_type": "code",
   "execution_count": 11,
   "metadata": {},
   "outputs": [
    {
     "name": "stdout",
     "output_type": "stream",
     "text": [
      "[0 1 0 2 1 2]\n",
      "[1 1 2 2 0 2]\n",
      "[0 0 2 2 1 1]\n",
      "[0 0 1 1 1 2]\n"
     ]
    }
   ],
   "source": [
    "for i in range(4):\n",
    "    print data[i]"
   ]
  },
  {
   "cell_type": "markdown",
   "metadata": {},
   "source": [
    "###### Fitting Model"
   ]
  },
  {
   "cell_type": "code",
   "execution_count": 12,
   "metadata": {},
   "outputs": [
    {
     "data": {
      "text/plain": [
       "MultinomialHMM(algorithm='viterbi',\n",
       "        init_params='abcdefghijklmnopqrstuvwxyzABCDEFGHIJKLMNOPQRSTUVWXYZ',\n",
       "        n_components=2, n_iter=10,\n",
       "        params='abcdefghijklmnopqrstuvwxyzABCDEFGHIJKLMNOPQRSTUVWXYZ',\n",
       "        random_state=<mtrand.RandomState object at 0x7fb6b03b55f0>,\n",
       "        startprob=None, startprob_prior=1.0, thresh=0.01, transmat=None,\n",
       "        transmat_prior=1.0)"
      ]
     },
     "execution_count": 12,
     "metadata": {},
     "output_type": "execute_result"
    }
   ],
   "source": [
    "mm = hmm.MultinomialHMM(n_components=2)\n",
    "mm.fit(data)"
   ]
  },
  {
   "cell_type": "code",
   "execution_count": 13,
   "metadata": {},
   "outputs": [
    {
     "data": {
      "text/plain": [
       "array([[ 0.28162356,  0.34839151,  0.36998493],\n",
       "       [ 0.37611133,  0.33502647,  0.2888622 ]])"
      ]
     },
     "execution_count": 13,
     "metadata": {},
     "output_type": "execute_result"
    }
   ],
   "source": [
    "mm.emissionprob_"
   ]
  },
  {
   "cell_type": "code",
   "execution_count": 14,
   "metadata": {},
   "outputs": [
    {
     "data": {
      "text/plain": [
       "array([ 0.49390856,  0.50609144])"
      ]
     },
     "execution_count": 14,
     "metadata": {},
     "output_type": "execute_result"
    }
   ],
   "source": [
    "mm.startprob_"
   ]
  },
  {
   "cell_type": "code",
   "execution_count": 15,
   "metadata": {},
   "outputs": [
    {
     "data": {
      "text/plain": [
       "array([[ 0.4984534 ,  0.5015466 ],\n",
       "       [ 0.49639699,  0.50360301]])"
      ]
     },
     "execution_count": 15,
     "metadata": {},
     "output_type": "execute_result"
    }
   ],
   "source": [
    "mm.transmat_"
   ]
  },
  {
   "cell_type": "markdown",
   "metadata": {},
   "source": [
    "References :  \n",
    "* https://web.stanford.edu/~jurafsky/slp3/A.pdf  \n",
    "* https://medium.com/@kangeugine/hidden-markov-model-7681c22f5b9  \n",
    "\n",
    "Further reading :  \n",
    "* We had used library called 'hmmlearn' which seems to be deprecated.  \n",
    "Library named 'hmms' have great example notebook.  \n",
    "\n",
    "* https://github.com/lopatovsky/HMMs/blob/master/hmms.ipynb\n"
   ]
  }
 ],
 "metadata": {
  "kernelspec": {
   "display_name": "Python 2",
   "language": "python",
   "name": "python2"
  },
  "language_info": {
   "codemirror_mode": {
    "name": "ipython",
    "version": 2
   },
   "file_extension": ".py",
   "mimetype": "text/x-python",
   "name": "python",
   "nbconvert_exporter": "python",
   "pygments_lexer": "ipython2",
   "version": "2.7.14"
  }
 },
 "nbformat": 4,
 "nbformat_minor": 2
}
