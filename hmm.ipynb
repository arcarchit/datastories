{
 "cells": [
  {
   "cell_type": "code",
   "execution_count": 1,
   "metadata": {},
   "outputs": [],
   "source": [
    "from hmmlearn import hmm\n",
    "import numpy as np\n",
    "import math\n",
    "\n",
    "import warnings\n",
    "warnings.filterwarnings('ignore')"
   ]
  },
  {
   "cell_type": "markdown",
   "metadata": {},
   "source": [
    "#### Model"
   ]
  },
  {
   "cell_type": "markdown",
   "metadata": {},
   "source": [
    "* We have the data about observations states are unknown.  \n",
    "* * Observation 1 : walk -> shop -> clean\n",
    "* * Observation 2 : clean -> clean -> clean\n",
    "* There is a prior probability of a first state in sequence.\n",
    "* Transition probability : Probability of a next state given current state (never symmetric in general)  \n",
    "* Emission probability : Probability of observation given state  "
   ]
  },
  {
   "cell_type": "markdown",
   "metadata": {},
   "source": [
    "These three are the model parameters, which we need to infer.\n",
    "Our example is discrete HMM and emission probability has multinomial distribution.  \n",
    "Note that it all sums up to 1.  \n",
    "\n",
    "In case of continuous HMM emission probabilities can be a normal distribution.  \n",
    "One example of observed entitity is electric power consumed.  https://nipunbatra.github.io/blog/2013/hmm_continuous.html"
   ]
  },
  {
   "cell_type": "code",
   "execution_count": 2,
   "metadata": {},
   "outputs": [],
   "source": [
    "states = ('Rainny', 'Sunny')\n",
    "observations = ('walk', 'shop', 'clean')\n",
    "\n",
    "start_probability = {\n",
    "    'Rainy':0.6,\n",
    "    'Sunny':0.4\n",
    "}\n",
    "\n",
    "\n",
    "trainsition_probabilities = {\n",
    "    'Rainy' : {'Rainy':0.7, 'Sunny':0.3},\n",
    "    'Sunny' : {'Rainy':0.4, 'Sunny':0.6}\n",
    "}\n",
    "\n",
    "emissio_probabilites = {\n",
    "    'Rainy':{\n",
    "        'walk':0.1,\n",
    "        'shop':0.4,\n",
    "        'clean':0.5\n",
    "    },\n",
    "    'Sunny':{\n",
    "        'walk':0.6,\n",
    "        'shop':0.3,\n",
    "        'clean':0.1\n",
    "    }\n",
    "}"
   ]
  },
  {
   "cell_type": "code",
   "execution_count": 3,
   "metadata": {},
   "outputs": [],
   "source": [
    "start_prob = np.array([0.6, 0.4])\n",
    "trans_prob = np.array([[0.7,0.3],\n",
    "                                [0.4,0.6]])\n",
    "emission_prob = np.array([[0.1, 0.4, 0.5],\n",
    "                                [0.6, 0.3, 0.1]])"
   ]
  },
  {
   "cell_type": "code",
   "execution_count": 4,
   "metadata": {},
   "outputs": [],
   "source": [
    "import numpy as np\n",
    "from hmmlearn import hmm\n",
    "\n",
    "model = hmm.MultinomialHMM(n_components=2)\n",
    "model.startprob_ = start_prob\n",
    "model.transmat_ = trans_prob\n",
    "model.emissionprob_ = emission_prob"
   ]
  },
  {
   "cell_type": "markdown",
   "metadata": {},
   "source": [
    "#### Foward algorithm - Handcoded"
   ]
  },
  {
   "cell_type": "code",
   "execution_count": 27,
   "metadata": {},
   "outputs": [],
   "source": [
    "def forward_rec(observed_seq):\n",
    "    memo = {}\n",
    "    \n",
    "    def sub_sol(state, seq_no):\n",
    "        if seq_no == len(observed_seq):\n",
    "            return 1\n",
    "        tt = (state, seq_no)\n",
    "        if tt in memo:\n",
    "            prob = memo[tt]\n",
    "        else:\n",
    "            if seq_no == -1:\n",
    "                prob = 0\n",
    "                for i,p in enumerate(start_prob):\n",
    "                    prob += p*sub_sol(i, seq_no + 1)\n",
    "            else:\n",
    "                prob = 1\n",
    "                prob *= emission_prob[state][observed_seq[seq_no]]\n",
    "                temp = 0\n",
    "                for next_state in range(len(trans_prob)):\n",
    "                    temp += trans_prob[state][next_state] * sub_sol(next_state, seq_no + 1)\n",
    "                prob *= temp\n",
    "            memo[tt] = prob\n",
    "\n",
    "        return prob\n",
    "    \n",
    "    \n",
    "    ans = sub_sol(0, -1)\n",
    "    return ans"
   ]
  },
  {
   "cell_type": "code",
   "execution_count": 28,
   "metadata": {},
   "outputs": [
    {
     "data": {
      "text/plain": [
       "0.045903999999999993"
      ]
     },
     "execution_count": 28,
     "metadata": {},
     "output_type": "execute_result"
    }
   ],
   "source": [
    "forward_rec([2,2,2])"
   ]
  },
  {
   "cell_type": "code",
   "execution_count": 29,
   "metadata": {},
   "outputs": [],
   "source": [
    "def forward_up(observed_seq):\n",
    "    no_states = len(start_prob)\n",
    "\n",
    "    dp = [[0 for _ in range(len(observed_seq))] for _ in range(no_states)]\n",
    "    \n",
    "    for i in range(len(observed_seq)-1, -1, -1):\n",
    "        observation = observed_seq[i]    \n",
    "        if i == len(observed_seq) - 1:\n",
    "            for j in range(no_states):\n",
    "                dp[j][i] = emission_prob[j][observation]\n",
    "        else:\n",
    "            for state in range(no_states):\n",
    "                prob = 1\n",
    "                prob *= emission_prob[state][observed_seq[i]]\n",
    "                temp = 0\n",
    "                for next_state in range(len(trans_prob)):\n",
    "                    temp += trans_prob[state][next_state] * dp[next_state][i + 1]\n",
    "                prob *= temp\n",
    "                dp[state][i]=prob\n",
    "    \n",
    "    ans = 0\n",
    "    for i in range(no_states):\n",
    "        ans += start_prob[i] * dp[i][0]\n",
    "    return ans  "
   ]
  },
  {
   "cell_type": "code",
   "execution_count": 30,
   "metadata": {},
   "outputs": [
    {
     "data": {
      "text/plain": [
       "0.045903999999999993"
      ]
     },
     "execution_count": 30,
     "metadata": {},
     "output_type": "execute_result"
    }
   ],
   "source": [
    "forward_up([2,2,2])"
   ]
  },
  {
   "cell_type": "code",
   "execution_count": 31,
   "metadata": {},
   "outputs": [
    {
     "data": {
      "text/plain": [
       "0.033612000000000003"
      ]
     },
     "execution_count": 31,
     "metadata": {},
     "output_type": "execute_result"
    }
   ],
   "source": [
    "forward_up([0,1,2])"
   ]
  },
  {
   "cell_type": "code",
   "execution_count": 32,
   "metadata": {},
   "outputs": [
    {
     "data": {
      "text/plain": [
       "0.12959999999999999"
      ]
     },
     "execution_count": 32,
     "metadata": {},
     "output_type": "execute_result"
    }
   ],
   "source": [
    "forward_rec([1,1])"
   ]
  },
  {
   "cell_type": "markdown",
   "metadata": {},
   "source": [
    "#### Forward Algorithm"
   ]
  },
  {
   "cell_type": "markdown",
   "metadata": {},
   "source": [
    "Given model we want to calculate probability of observing sequence.  Brute force approach will start from each state, calculate probability and sums them up. If there are N hidden states and T observations there can be total N^T possible sequence. Forward algorithm uses dynamic programming to reduce complexity. "
   ]
  },
  {
   "cell_type": "code",
   "execution_count": 9,
   "metadata": {},
   "outputs": [
    {
     "name": "stdout",
     "output_type": "stream",
     "text": [
      "Probability of observing clean -> clean -> clean is 0.045904\n"
     ]
    }
   ],
   "source": [
    "prob = math.exp(model.score([2,2,2]))\n",
    "print \"Probability of observing clean -> clean -> clean is\", prob"
   ]
  },
  {
   "cell_type": "code",
   "execution_count": 10,
   "metadata": {},
   "outputs": [
    {
     "name": "stdout",
     "output_type": "stream",
     "text": [
      "Probability of observing walk -> shop -> clean is 0.033612\n"
     ]
    }
   ],
   "source": [
    "prob = math.exp(model.score([0,1,2]))\n",
    "print \"Probability of observing walk -> shop -> clean is\", prob"
   ]
  },
  {
   "cell_type": "code",
   "execution_count": 11,
   "metadata": {},
   "outputs": [
    {
     "name": "stdout",
     "output_type": "stream",
     "text": [
      "Probability of observing shop -> shop is 0.1296\n"
     ]
    }
   ],
   "source": [
    "prob = math.exp(model.score([1,1]))\n",
    "print \"Probability of observing shop -> shop is\", prob"
   ]
  },
  {
   "cell_type": "markdown",
   "metadata": {},
   "source": [
    "#### Backward algorithm - viterbi - Handcoded"
   ]
  },
  {
   "cell_type": "code",
   "execution_count": 54,
   "metadata": {},
   "outputs": [],
   "source": [
    "def decode(observed_seq):\n",
    "    \"\"\" Return path and probabilities\"\"\"\n",
    "    \n",
    "    no_states = len(start_prob)\n",
    "    parent = [[None for _ in range(len(observed_seq))] for _ in range(no_states)]\n",
    "    dp =  [[None for _ in range(len(observed_seq))] for _ in range(no_states)]\n",
    "    \n",
    "    prob = 0\n",
    "    \n",
    "    first_observation = observed_seq[0]\n",
    "    for state in range(no_states):\n",
    "        dp[state][0] = start_prob[state]*emission_prob[state][first_observation]\n",
    "        parent[state][0] = -1\n",
    "        \n",
    "    for seq_no in range(1, len(observed_seq)):\n",
    "        observation = observed_seq[seq_no]\n",
    "        for state in range(no_states):\n",
    "            prob = 0\n",
    "            parent_x = -2\n",
    "            for prev_state in range(no_states):\n",
    "                temp_prob = dp[prev_state][seq_no-1] * trans_prob[prev_state][state] * emission_prob[state][observation]\n",
    "                if temp_prob > prob:\n",
    "                    prob = temp_prob\n",
    "                    parent_x = prev_state\n",
    "            dp[state][seq_no] = prob\n",
    "            parent[state][seq_no] = parent_x\n",
    "            \n",
    "    final_state = -1\n",
    "    final_prob = 0\n",
    "    \n",
    "    for i in range(len(dp)):\n",
    "        temp_prob = dp[i][-1]\n",
    "        if temp_prob > final_prob:\n",
    "            final_state = i\n",
    "            final_prob = temp_prob\n",
    "            \n",
    "    back_track = [final_state]\n",
    "    seq = len(observed_seq) - 1\n",
    "    pp = parent[final_state][seq]\n",
    "    \n",
    "    while pp!=-1:\n",
    "        back_track.append(pp)\n",
    "        seq -= 1\n",
    "        pp = parent[pp][seq]\n",
    "        \n",
    "    return list(reversed(back_track)), final_prob\n",
    "    \n",
    "    "
   ]
  },
  {
   "cell_type": "code",
   "execution_count": 55,
   "metadata": {},
   "outputs": [
    {
     "data": {
      "text/plain": [
       "([0, 0, 1], 0.015119999999999998)"
      ]
     },
     "execution_count": 55,
     "metadata": {},
     "output_type": "execute_result"
    }
   ],
   "source": [
    "decode([1,2,0])"
   ]
  },
  {
   "cell_type": "code",
   "execution_count": 57,
   "metadata": {},
   "outputs": [
    {
     "data": {
      "text/plain": [
       "([0, 0, 0], 0.036749999999999998)"
      ]
     },
     "execution_count": 57,
     "metadata": {},
     "output_type": "execute_result"
    }
   ],
   "source": [
    "decode([2,2,2])"
   ]
  },
  {
   "cell_type": "code",
   "execution_count": 56,
   "metadata": {},
   "outputs": [
    {
     "data": {
      "text/plain": [
       "([0, 0, 0, 0, 1, 1, 0, 0, 0], 1.3069123199999998e-05)"
      ]
     },
     "execution_count": 56,
     "metadata": {},
     "output_type": "execute_result"
    }
   ],
   "source": [
    "decode([2,2,2,2,0,0,1,1,2])"
   ]
  },
  {
   "cell_type": "markdown",
   "metadata": {},
   "source": [
    "#### Decoding "
   ]
  },
  {
   "cell_type": "markdown",
   "metadata": {},
   "source": [
    "Given observed sequence, we want to find out most probable state sequence.  One way would be as in forward algorithm compute probability of each possible sequence and return the one with highest probability.  \n",
    "Efficient algorithm here is Viterbi's algorithm which again is based on dynamic programming.  "
   ]
  },
  {
   "cell_type": "code",
   "execution_count": 47,
   "metadata": {},
   "outputs": [
    {
     "name": "stdout",
     "output_type": "stream",
     "text": [
      "(-4.19173690823075, array([0, 0, 1]))\n",
      "0.01512\n"
     ]
    }
   ],
   "source": [
    "# Predict the optimal sequence of internal hidden state\n",
    "X = [1,2,0]\n",
    "ans = model.decode(X)\n",
    "print ans\n",
    "print np.exp(ans[0])"
   ]
  },
  {
   "cell_type": "markdown",
   "metadata": {},
   "source": [
    "We had observed shop -> clean -> walk.  \n",
    "States suggested are Rainy, Rainy, Sunny"
   ]
  },
  {
   "cell_type": "code",
   "execution_count": 58,
   "metadata": {},
   "outputs": [
    {
     "name": "stdout",
     "output_type": "stream",
     "text": [
      "(-3.3036170533232916, array([0, 0, 0]))\n",
      "0.03675\n"
     ]
    }
   ],
   "source": [
    "X = [2,2,2]\n",
    "ans = model.decode(X)\n",
    "print ans\n",
    "print np.exp(ans[0])"
   ]
  },
  {
   "cell_type": "markdown",
   "metadata": {},
   "source": [
    "We had observed clean -> clean -> clean.  \n",
    "States suggested are Rainy -> Rainy -> Rainy.  "
   ]
  },
  {
   "cell_type": "code",
   "execution_count": 59,
   "metadata": {},
   "outputs": [
    {
     "name": "stdout",
     "output_type": "stream",
     "text": [
      "(-11.24525811750575, array([0, 0, 0, 0, 1, 1, 0, 0, 0]))\n",
      "1.30691232e-05\n"
     ]
    }
   ],
   "source": [
    "X = [2,2,2,2,0,0,1,1,2]\n",
    "ans = model.decode(X)\n",
    "print ans\n",
    "print np.exp(ans[0])"
   ]
  },
  {
   "cell_type": "markdown",
   "metadata": {},
   "source": [
    "We had observed clean -> clean -> clean -> clean -> walk -> walk -> shop -> shop -> clean.  \n",
    "States suggested are Rainy -> Rainy -> Rainy -> Rainy -> Sunny -> Suny -> Rainy -> Rainy -> Rainy"
   ]
  },
  {
   "cell_type": "markdown",
   "metadata": {},
   "source": [
    "#### Training handcoded"
   ]
  },
  {
   "cell_type": "markdown",
   "metadata": {},
   "source": [
    "TODO : It is a form of EM algorithm.   \n",
    "1) You assume some parameter values   \n",
    "2) Repeat following until convergence :  \n",
    "    * Determine probable state paths\n",
    "    * Transition probability can be calculated by no of such a trasaction made\n",
    "    * Emission probability can be calcuated by no of emissions made given transaction\n",
    "    * Thus we re-estimate parameter values\n",
    "3) We repeat two until convergence."
   ]
  },
  {
   "cell_type": "markdown",
   "metadata": {},
   "source": [
    "#### Training "
   ]
  },
  {
   "cell_type": "markdown",
   "metadata": {},
   "source": [
    "Given dataset of observed sequence we want to learn model parameters.  Algorithm used here is called forward-backward algorithm.  "
   ]
  },
  {
   "cell_type": "markdown",
   "metadata": {},
   "source": [
    "###### Generating sample data"
   ]
  },
  {
   "cell_type": "code",
   "execution_count": 15,
   "metadata": {},
   "outputs": [],
   "source": [
    "data = []\n",
    "for i in range(200):\n",
    "    X, Z = model.sample(6)\n",
    "    data.append(X)"
   ]
  },
  {
   "cell_type": "markdown",
   "metadata": {},
   "source": [
    "We now have 20 possible sequences of length 6.  "
   ]
  },
  {
   "cell_type": "code",
   "execution_count": 16,
   "metadata": {},
   "outputs": [
    {
     "name": "stdout",
     "output_type": "stream",
     "text": [
      "[0 0 0 0 1 2]\n",
      "[1 1 1 0 0 1]\n",
      "[2 0 1 0 2 1]\n",
      "[1 2 1 0 1 0]\n"
     ]
    }
   ],
   "source": [
    "for i in range(4):\n",
    "    print data[i]"
   ]
  },
  {
   "cell_type": "markdown",
   "metadata": {},
   "source": [
    "###### Fitting Model"
   ]
  },
  {
   "cell_type": "code",
   "execution_count": 17,
   "metadata": {},
   "outputs": [
    {
     "data": {
      "text/plain": [
       "MultinomialHMM(algorithm='viterbi',\n",
       "        init_params='abcdefghijklmnopqrstuvwxyzABCDEFGHIJKLMNOPQRSTUVWXYZ',\n",
       "        n_components=2, n_iter=10,\n",
       "        params='abcdefghijklmnopqrstuvwxyzABCDEFGHIJKLMNOPQRSTUVWXYZ',\n",
       "        random_state=<mtrand.RandomState object at 0x7ffbdc1026e0>,\n",
       "        startprob=None, startprob_prior=1.0, thresh=0.01, transmat=None,\n",
       "        transmat_prior=1.0)"
      ]
     },
     "execution_count": 17,
     "metadata": {},
     "output_type": "execute_result"
    }
   ],
   "source": [
    "mm = hmm.MultinomialHMM(n_components=2)\n",
    "mm.fit(data)"
   ]
  },
  {
   "cell_type": "code",
   "execution_count": 18,
   "metadata": {},
   "outputs": [
    {
     "data": {
      "text/plain": [
       "array([[ 0.14152644,  0.61370742,  0.24476614],\n",
       "       [ 0.51719395,  0.09216437,  0.39064168]])"
      ]
     },
     "execution_count": 18,
     "metadata": {},
     "output_type": "execute_result"
    }
   ],
   "source": [
    "mm.emissionprob_"
   ]
  },
  {
   "cell_type": "code",
   "execution_count": 19,
   "metadata": {},
   "outputs": [
    {
     "data": {
      "text/plain": [
       "array([ 0.51716287,  0.48283713])"
      ]
     },
     "execution_count": 19,
     "metadata": {},
     "output_type": "execute_result"
    }
   ],
   "source": [
    "mm.startprob_"
   ]
  },
  {
   "cell_type": "code",
   "execution_count": 20,
   "metadata": {},
   "outputs": [
    {
     "data": {
      "text/plain": [
       "array([[ 0.57500492,  0.42499508],\n",
       "       [ 0.52700236,  0.47299764]])"
      ]
     },
     "execution_count": 20,
     "metadata": {},
     "output_type": "execute_result"
    }
   ],
   "source": [
    "mm.transmat_"
   ]
  },
  {
   "cell_type": "markdown",
   "metadata": {},
   "source": [
    "References :  \n",
    "* https://web.stanford.edu/~jurafsky/slp3/A.pdf  \n",
    "* https://medium.com/@kangeugine/hidden-markov-model-7681c22f5b9  \n",
    "\n",
    "Further reading :  \n",
    "* We had used library called 'hmmlearn' which seems to be deprecated.  \n",
    "Library named 'hmms' have great example notebook.  \n",
    "\n",
    "* https://github.com/lopatovsky/HMMs/blob/master/hmms.ipynb\n"
   ]
  }
 ],
 "metadata": {
  "kernelspec": {
   "display_name": "Python 2",
   "language": "python",
   "name": "python2"
  },
  "language_info": {
   "codemirror_mode": {
    "name": "ipython",
    "version": 2
   },
   "file_extension": ".py",
   "mimetype": "text/x-python",
   "name": "python",
   "nbconvert_exporter": "python",
   "pygments_lexer": "ipython2",
   "version": "2.7.14"
  }
 },
 "nbformat": 4,
 "nbformat_minor": 2
}
