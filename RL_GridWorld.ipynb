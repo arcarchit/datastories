{
 "cells": [
  {
   "cell_type": "code",
   "execution_count": 1,
   "metadata": {},
   "outputs": [],
   "source": [
    "import copy\n",
    "import numpy as np"
   ]
  },
  {
   "cell_type": "markdown",
   "metadata": {},
   "source": [
    "### Value Iteration Grid World"
   ]
  },
  {
   "cell_type": "markdown",
   "metadata": {},
   "source": [
    "We want to move to top left or bottom right. Possible actions are left/right/up/botton."
   ]
  },
  {
   "cell_type": "code",
   "execution_count": 2,
   "metadata": {},
   "outputs": [],
   "source": [
    "val = [[-1 for _ in range(4)] for _ in range(4)]\n",
    "val[0][0] = 0\n",
    "val[3][3] = 0\n",
    "\n",
    "discount = 1\n",
    "num_episodes = 10\n",
    "\n",
    "final_states = set([(0,0), (3,3)])\n",
    "\n",
    "def get_neighbour(i,j):\n",
    "    ans = []\n",
    "    candidates = [(i-1,j), (i+1, j), (i, j-1), (i, j+1)]\n",
    "    for x,y in candidates:\n",
    "        if 0<=x<=3 and 0<=y<=3:\n",
    "            ans.append((x,y))\n",
    "    return ans\n",
    "\n",
    "for _ in range(num_episodes):\n",
    "    backup = copy.deepcopy(val)\n",
    "    for i in range(4):\n",
    "        for j in range(4):\n",
    "            if (i,j) in final_states:\n",
    "                continue\n",
    "            dist = -10**8\n",
    "            ans = []\n",
    "            for x,y in get_neighbour(i,j):\n",
    "                if backup[x][y] == dist:\n",
    "                    ans.append((x,y))\n",
    "                elif backup[x][y] > dist:\n",
    "                    dist = val[x][y]\n",
    "                    ans = []\n",
    "                    ans.append((x,y))\n",
    "            index = np.random.randint(0, len(ans)) \n",
    "            x,y = ans[index] # This is next state\n",
    "            reward = -1 \n",
    "            val[i][j] = reward + discount * backup[x][y]"
   ]
  },
  {
   "cell_type": "code",
   "execution_count": 3,
   "metadata": {},
   "outputs": [
    {
     "name": "stdout",
     "output_type": "stream",
     "text": [
      "[0, -1, -2, -3]\n",
      "[-1, -2, -3, -2]\n",
      "[-2, -3, -2, -1]\n",
      "[-3, -2, -1, 0]\n"
     ]
    }
   ],
   "source": [
    "for x in val:\n",
    "    print (x)"
   ]
  },
  {
   "cell_type": "markdown",
   "metadata": {},
   "source": [
    "### Q Learning"
   ]
  },
  {
   "cell_type": "markdown",
   "metadata": {},
   "source": [
    "We want to populate the q table. We will store dictionary in each cell, key is action, val is q-val."
   ]
  },
  {
   "cell_type": "markdown",
   "metadata": {},
   "source": [
    "update rule\n",
    "Take action randomly\n",
    "update Q(s,a) = reward + Q(s', a)"
   ]
  },
  {
   "cell_type": "code",
   "execution_count": 4,
   "metadata": {},
   "outputs": [],
   "source": [
    "def get_valid_actions(i,j):\n",
    "    left, right = (i, j-1), (i, j+1)\n",
    "    up, down = (i-1, j), (i+1, j)\n",
    "    dic = {'left':left, 'right':right, 'up':up, 'down':down}\n",
    "    actions = []\n",
    "    for key in dic:\n",
    "        x,y = dic[key]\n",
    "        if 0<=x<=3 and 0<=y<=3:\n",
    "            actions.append(key)\n",
    "    return actions"
   ]
  },
  {
   "cell_type": "code",
   "execution_count": 5,
   "metadata": {},
   "outputs": [],
   "source": [
    "q = [[{} for _ in range(4)] for _ in range(4)]\n",
    "\n",
    "for i in range(4):\n",
    "    for j in range(4):\n",
    "        if (i,j) in final_states:\n",
    "            continue\n",
    "        actions = get_valid_actions(i,j)\n",
    "        for a in actions : q[i][j][a] = 0\n",
    "\n",
    "q[0][0] = {'None':0}\n",
    "q[3][3] = {'None':0}"
   ]
  },
  {
   "cell_type": "code",
   "execution_count": 7,
   "metadata": {},
   "outputs": [],
   "source": [
    "# Populate valid actions, with val = 0\n",
    "        \n",
    "num_plays = 80\n",
    "final_states = set([(0,0), (3,3)])\n",
    "\n",
    "def pretty_print(arr):\n",
    "    for x in arr:\n",
    "        print (x)\n",
    "    print (\"\\n\")\n",
    "    \n",
    "def get_next_state(i,j,action):\n",
    "    left, right = (i, j-1), (i, j+1)\n",
    "    up, down = (i-1, j), (i+1, j)\n",
    "    dic = {'left':left, 'right':right, 'up':up, 'down':down}\n",
    "    return dic[action]\n",
    "\n",
    "for _ in range(num_plays):\n",
    "    backup_q = copy.deepcopy(q)\n",
    "#     pretty_print(backup_q)\n",
    "    for i in range(4):\n",
    "        for j in range(4):\n",
    "            if (i,j) in final_states:\n",
    "                continue\n",
    "            \n",
    "            best_val = -10**8\n",
    "            # Find list of max value action\n",
    "            dicc = q[i][j]\n",
    "            actions_list = []\n",
    "            for key in dicc:\n",
    "                val = dicc[key]\n",
    "                if val > best_val:\n",
    "                    best_val = val\n",
    "                    actions_list = [(key, val)]\n",
    "                elif val == best_val:\n",
    "                    actions_list.append((key, val))\n",
    "            \n",
    "            # Select action from list\n",
    "            index = np.random.randint(0,len(actions_list)) if actions_list else 0\n",
    "            action, val = actions_list[index]\n",
    "            \n",
    "            # Find reward for action \n",
    "            reward = -1\n",
    "            # Update q table\n",
    "            x,y = get_next_state(i,j, action)\n",
    "            val_ns = max(backup_q[x][y].values())\n",
    "            dicc[action] = reward + val_ns"
   ]
  },
  {
   "cell_type": "code",
   "execution_count": 8,
   "metadata": {},
   "outputs": [
    {
     "data": {
      "text/plain": [
       "[[{'None': 0},\n",
       "  {'left': -1, 'right': -2, 'down': -2},\n",
       "  {'left': -2, 'right': -3, 'down': -3},\n",
       "  {'left': -3, 'down': -3}],\n",
       " [{'right': -2, 'up': -1, 'down': -2},\n",
       "  {'left': -2, 'right': -3, 'up': -2, 'down': -3},\n",
       "  {'left': -3, 'right': -3, 'up': -3, 'down': -3},\n",
       "  {'left': -3, 'up': -4, 'down': -2}],\n",
       " [{'right': -3, 'up': -2, 'down': -3},\n",
       "  {'left': -3, 'right': -3, 'up': -3, 'down': -3},\n",
       "  {'left': -3, 'right': -2, 'up': -3, 'down': -2},\n",
       "  {'left': -2, 'up': -2, 'down': -1}],\n",
       " [{'right': -3, 'up': -3},\n",
       "  {'left': -3, 'right': -2, 'up': -3},\n",
       "  {'left': -2, 'right': -1, 'up': -2},\n",
       "  {'None': 0}]]"
      ]
     },
     "execution_count": 8,
     "metadata": {},
     "output_type": "execute_result"
    }
   ],
   "source": [
    "q"
   ]
  },
  {
   "cell_type": "code",
   "execution_count": 9,
   "metadata": {},
   "outputs": [],
   "source": [
    "ans = [[None for _ in range(4)] for _ in range(4)]\n",
    "\n",
    "for i in range(4):\n",
    "    for j in range(4):\n",
    "        dicc = q[i][j]\n",
    "        actions_list = []\n",
    "        best_val = -10**8\n",
    "        for key in dicc:\n",
    "            val = dicc[key]\n",
    "            if val > best_val:\n",
    "                best_val = val\n",
    "                actions_list = [key]\n",
    "            elif val == best_val:\n",
    "                actions_list.append(key)\n",
    "        ans_actions = '/'.join(actions_list)\n",
    "        ans[i][j] = ans_actions"
   ]
  },
  {
   "cell_type": "code",
   "execution_count": 10,
   "metadata": {},
   "outputs": [
    {
     "data": {
      "text/plain": [
       "[['None', 'left', 'left', 'left/down'],\n",
       " ['up', 'left/up', 'left/right/up/down', 'down'],\n",
       " ['up', 'left/right/up/down', 'right/down', 'down'],\n",
       " ['right/up', 'right', 'right', 'None']]"
      ]
     },
     "execution_count": 10,
     "metadata": {},
     "output_type": "execute_result"
    }
   ],
   "source": [
    "ans"
   ]
  }
 ],
 "metadata": {
  "kernelspec": {
   "display_name": "Python 3",
   "language": "python",
   "name": "python3"
  },
  "language_info": {
   "codemirror_mode": {
    "name": "ipython",
    "version": 3
   },
   "file_extension": ".py",
   "mimetype": "text/x-python",
   "name": "python",
   "nbconvert_exporter": "python",
   "pygments_lexer": "ipython3",
   "version": "3.6.5"
  }
 },
 "nbformat": 4,
 "nbformat_minor": 2
}
